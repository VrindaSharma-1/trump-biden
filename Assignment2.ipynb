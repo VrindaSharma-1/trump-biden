{
 "cells": [
  {
   "cell_type": "code",
   "execution_count": 116,
   "metadata": {},
   "outputs": [],
   "source": [
    "import pandas as pd\n",
    "from string import punctuation\n",
    "import nltk\n",
    "from nltk.tokenize import sent_tokenize, word_tokenize\n",
    "from nltk.corpus import stopwords"
   ]
  },
  {
   "cell_type": "markdown",
   "metadata": {},
   "source": [
    "# Part B"
   ]
  },
  {
   "cell_type": "code",
   "execution_count": 117,
   "metadata": {},
   "outputs": [],
   "source": [
    "tweets = pd.read_csv('6ktweets.csv')\n",
    "\n",
    "def remove_punctuation(item):\n",
    "    for p in punctuation:\n",
    "        item = item.lstrip().replace(p,'')\n",
    "    return item\n",
    "\n",
    "def conv_lowercase(x):\n",
    "    return x.lower()\n",
    "\n",
    "tweets['clean_tweets'] = tweets['tweets'].apply(remove_punctuation).apply(conv_lowercase)\n",
    "#tweets"
   ]
  },
  {
   "cell_type": "code",
   "execution_count": 118,
   "metadata": {},
   "outputs": [],
   "source": [
    "# nltk.download()\n",
    "tweets['word_freq_list'] = tweets['clean_tweets'].apply(word_tokenize).apply(set).apply(list)\n",
    "\n",
    "# Remove stop words\n",
    "stop_words = set(stopwords.words('english'))\n",
    "def remove_stopwords(s):\n",
    "    return [w for w in s if not w in stop_words] \n",
    "\n",
    "tweets['word_freq_list'] = tweets['word_freq_list'].apply(remove_stopwords)\n",
    "\n",
    "# Creating a list of all the words in the comments to count word frequency in the next step\n",
    "count = []\n",
    "for i in range(len(tweets)):\n",
    "    count+=tweets['word_freq_list'][i]"
   ]
  },
  {
   "cell_type": "code",
   "execution_count": 119,
   "metadata": {},
   "outputs": [],
   "source": [
    "# fetching the frequency of words\n",
    "from nltk import FreqDist\n",
    "word_freq = nltk.FreqDist(count)"
   ]
  },
  {
   "cell_type": "code",
   "execution_count": 120,
   "metadata": {},
   "outputs": [],
   "source": [
    "#identified key issues\n",
    "\n",
    "#trump issues\n",
    "immigration = ['mexican', 'wall', 'immigrate', 'mexico', 'illegals', 'immigrants', 'immigrant']\n",
    "impeach = ['impeachment', 'impeached', 'trumpimpeachment', 'impeachtrump']\n",
    "foreign_relations = ['ukraine', 'isis', 'syria', 'china' ,'iran']\n",
    "\n",
    "#biden issues\n",
    "economy = ['job', 'jobs', 'money', 'taxes', 'taxpayer', 'economys', 'trumpeconomy']\n",
    "education = [ 'college', 'school' ,'educate' ,'students' , 'student']\n",
    "gun_control = ['control','weapons', 'weapon','guns', 'gun']\n",
    "\n",
    "#replacements for trump and biden\n",
    "trump = ['donaldtrump', 'realdonaldtrump',  'trump2020','trumps', 'donald' ]\n",
    "biden = ['joebiden', 'joes','bidens', 'joe']\n",
    "\n",
    "attributes = immigration + impeach+ foreign_relations + economy + trump + biden +education + gun_control"
   ]
  },
  {
   "cell_type": "code",
   "execution_count": 121,
   "metadata": {},
   "outputs": [],
   "source": [
    "#replacing words with key issues\n",
    "key_issues = pd.DataFrame()\n",
    "key_issues['attribute'] = attributes\n",
    "key_issues['general_attribute'] = ''\n",
    "\n",
    "key_issues['general_attribute'][0:len(immigration)] = 'immigration'\n",
    "key_issues['general_attribute'][len(immigration):len(immigration)+len(impeach)] = 'impeach'\n",
    "key_issues['general_attribute'][len(immigration)+len(impeach):len(immigration)+len(impeach)+len(foreign_relations)] = 'foreign_relations'\n",
    "key_issues['general_attribute'][len(immigration)+len(impeach)+len(foreign_relations):len(immigration)+len(impeach)+len(foreign_relations)+len(economy)] = 'economy'\n",
    "key_issues['general_attribute'][len(immigration)+len(impeach)+len(foreign_relations)+ len(economy):len(immigration)+len(impeach)+len(foreign_relations)+len(economy)+len(trump)] = 'trump'\n",
    "key_issues['general_attribute'][len(immigration)+len(impeach)+len(foreign_relations)+len(economy)+len(trump):len(immigration)+len(impeach)+len(foreign_relations)+len(economy)+len(trump)+len(biden)] = 'biden'\n",
    "key_issues['general_attribute'][len(immigration)+len(impeach)+len(foreign_relations)+len(economy)+len(trump)+ len(biden):len(immigration)+len(impeach)+len(foreign_relations)+len(economy)+len(trump)+len(biden) + len(education)] = 'education'\n",
    "key_issues['general_attribute'][len(immigration)+len(impeach)+len(foreign_relations)+len(economy)+len(trump)+ len(biden)+ len(gun_control):len(immigration)+len(impeach)+len(foreign_relations)+len(economy)+len(trump)+len(biden) + len(education)+len(gun_control)] = 'gun_control'\n",
    "#key_issues"
   ]
  },
  {
   "cell_type": "code",
   "execution_count": 122,
   "metadata": {},
   "outputs": [],
   "source": [
    "def word_to_attributes(s):\n",
    "    s = \" \".join(str(x) for x in s)\n",
    "    for i in key_issues.index.values:\n",
    "        s = s.replace(key_issues[\"attribute\"][i].lower(),key_issues[\"general_attribute\"][i].lower())\n",
    "    return s\n",
    "\n",
    "tweets['comments_attributes_replace'] = tweets['word_freq_list'].apply(word_to_attributes)\n"
   ]
  },
  {
   "cell_type": "markdown",
   "metadata": {},
   "source": [
    "# Part C"
   ]
  },
  {
   "cell_type": "code",
   "execution_count": 123,
   "metadata": {},
   "outputs": [],
   "source": [
    "#making list of tweets that mention trump and list of tweets that mention biden\n",
    "all_ = tweets['comments_attributes_replace'].apply(word_tokenize).apply(set).apply(list)\n",
    "all_ = all_.tolist()\n",
    "t =[]\n",
    "b =[]\n",
    "for i in all_: \n",
    "    for j in set(i):\n",
    "        if j == 'trump':\n",
    "            t.append(i)\n",
    "        elif j == 'biden':\n",
    "            b.append(i)             "
   ]
  },
  {
   "cell_type": "code",
   "execution_count": 124,
   "metadata": {},
   "outputs": [],
   "source": [
    "#calculating total no of tweets that mention each of these key issues\n",
    "economy =[]\n",
    "immigration =[]\n",
    "foreign_relations=[]\n",
    "impeach=[]\n",
    "for j in all_:\n",
    "    for k in j:\n",
    "        if k == 'economy':\n",
    "            economy.append(j)\n",
    "        if k == 'immigration':\n",
    "            immigration.append(j)\n",
    "        if k =='foreign_relations':\n",
    "            foreign_relations.append(j)\n",
    "        if k == 'impeach':\n",
    "            impeach.append(j)     "
   ]
  },
  {
   "cell_type": "code",
   "execution_count": 125,
   "metadata": {},
   "outputs": [
    {
     "data": {
      "text/plain": [
       "2"
      ]
     },
     "execution_count": 125,
     "metadata": {},
     "output_type": "execute_result"
    }
   ],
   "source": [
    "economy_immigration =[]\n",
    "economy_foreign=[]\n",
    "economy_impeach=[]\n",
    "for j in economy:\n",
    "    for k in j:\n",
    "        if k == 'immigration':\n",
    "            economy_immigration.append(j)\n",
    "        if k =='foreign_relations':\n",
    "            economy_foreign.append(j)\n",
    "        if k == 'impeach':\n",
    "            economy_impeach.append(j)   \n",
    "len(economy_impeach) "
   ]
  },
  {
   "cell_type": "code",
   "execution_count": 126,
   "metadata": {},
   "outputs": [
    {
     "data": {
      "text/plain": [
       "10"
      ]
     },
     "execution_count": 126,
     "metadata": {},
     "output_type": "execute_result"
    }
   ],
   "source": [
    "foreign_immigration =[]\n",
    "foreign_impeach=[]\n",
    "for j in foreign_relations:\n",
    "    for k in j:\n",
    "        if k == 'immigration':\n",
    "            foreign_immigration.append(j)\n",
    "        if k == 'impeach':\n",
    "            foreign_impeach.append(j)   \n",
    "len(foreign_impeach) \n"
   ]
  },
  {
   "cell_type": "code",
   "execution_count": 127,
   "metadata": {},
   "outputs": [
    {
     "data": {
      "text/plain": [
       "0"
      ]
     },
     "execution_count": 127,
     "metadata": {},
     "output_type": "execute_result"
    }
   ],
   "source": [
    "impeach_immigration =[]\n",
    "for j in impeach:\n",
    "    for k in j:\n",
    "        if k == 'immigration':\n",
    "            impeach_immigration.append(j)\n",
    "len(impeach_immigration) \n"
   ]
  },
  {
   "cell_type": "code",
   "execution_count": 128,
   "metadata": {},
   "outputs": [
    {
     "data": {
      "text/plain": [
       "46"
      ]
     },
     "execution_count": 128,
     "metadata": {},
     "output_type": "execute_result"
    }
   ],
   "source": [
    "#calculating total number of tweets that mention both key issues and trump\n",
    "economy_trump =[]\n",
    "immigration_trump =[]\n",
    "foreign_relations_trump=[]\n",
    "impeach_trump =[]\n",
    "trump_biden =[]\n",
    "for j in t:\n",
    "    for k in j:\n",
    "        if k == 'economy':\n",
    "            economy_trump.append(j)\n",
    "        if k == 'immigration':\n",
    "            immigration_trump.append(j)\n",
    "        if k =='foreign_relations':\n",
    "            foreign_relations_trump.append(j)\n",
    "        if k == 'impeach':\n",
    "            impeach_trump.append(j)   \n",
    "        if k == 'biden':\n",
    "            trump_biden.append(j)  \n",
    "len(trump_biden)            "
   ]
  },
  {
   "cell_type": "code",
   "execution_count": 129,
   "metadata": {},
   "outputs": [
    {
     "data": {
      "text/plain": [
       "46"
      ]
     },
     "execution_count": 129,
     "metadata": {},
     "output_type": "execute_result"
    }
   ],
   "source": [
    "#calculating total number of tweets that mention both key issues and biden\n",
    "economy_biden =[]\n",
    "immigration_biden =[]\n",
    "foreign_relations_biden=[]\n",
    "impeach_biden =[]\n",
    "biden_trump =[]\n",
    "for c in b:\n",
    "    for b1 in set(c):\n",
    "        if b1 == 'economy':\n",
    "            economy_biden.append(c)\n",
    "            continue;\n",
    "        if b1 == 'immigration':\n",
    "            immigration_biden.append(c)\n",
    "            continue; \n",
    "        if b1 =='foreign_relations':\n",
    "            foreign_relations_biden.append(c) \n",
    "            continue;\n",
    "        if b1 == 'impeach':\n",
    "            impeach_biden.append(c)  \n",
    "        if b1 == 'trump':\n",
    "            biden_trump.append(c)             \n",
    "len(biden_trump)            "
   ]
  },
  {
   "cell_type": "code",
   "execution_count": 130,
   "metadata": {},
   "outputs": [],
   "source": [
    "#lift analysis for trump and biden\n",
    "\n",
    "#trump\n",
    "lift_economy_trump = (len(tweets)*len(economy_trump))/(len(t)*len(economy))\n",
    "lift_immigration_trump = (len(tweets)*len(immigration_trump))/(len(t)*len(immigration))\n",
    "lift_foriegn_relations_trump = (len(tweets)*len(foreign_relations_trump))/(len(t)*len(foreign_relations))\n",
    "lift_impeach_trump = (len(tweets)*len(impeach_trump))/(len(t)*len(impeach))\n",
    "\n",
    "#biden\n",
    "lift_economy_biden = (len(tweets)*len(economy_biden))/(len(b)*len(economy))\n",
    "lift_immigration_biden = (len(tweets)*len(immigration_biden))/(len(b)*len(immigration))\n",
    "lift_foriegn_relations_biden = (len(tweets)*len(foreign_relations_biden))/(len(b)*len(foreign_relations))\n",
    "lift_impeach_biden = (len(tweets)*len(impeach_biden))/(len(b)*len(impeach))\n",
    "\n",
    "#both\n",
    "lift_trump_biden = (len(tweets)*len(trump_biden))/(len(b)*len(t))\n",
    "\n",
    "#economy analysis\n",
    "lift_economy_immigration = (len(tweets)*len(economy_immigration))/(len(immigration)*len(economy))\n",
    "lift_economy_foreign =(len(tweets)*len(economy_foreign))/(len(economy)*len(foreign_relations))\n",
    "lift_economy_impeach = (len(tweets)*len(economy_impeach))/(len(impeach)*len(economy))\n",
    "\n",
    "#foreign relations\n",
    "lift_foreign_immigration =(len(tweets)*len(foreign_immigration))/(len(immigration)*len(foreign_relations))\n",
    "lift_foreign_impeach = (len(tweets)*len(foreign_impeach))/(len(impeach)*len(foreign_relations))\n",
    "\n",
    "lift_impeach_immigration = (len(tweets)*len(impeach_immigration))/(len(impeach)*len(immigration))"
   ]
  },
  {
   "cell_type": "code",
   "execution_count": 131,
   "metadata": {},
   "outputs": [],
   "source": [
    "data = [[1, lift_trump_biden , lift_economy_trump, lift_immigration_trump, lift_foriegn_relations_trump, lift_impeach_trump], [lift_trump_biden, 1, lift_economy_biden, lift_immigration_biden, lift_foriegn_relations_biden,lift_impeach_biden], [lift_economy_trump,lift_economy_biden,1,lift_economy_immigration,lift_economy_foreign,lift_economy_impeach],[lift_immigration_trump,lift_immigration_biden,lift_economy_immigration,1,lift_foreign_immigration,lift_impeach_immigration],[lift_foriegn_relations_trump,lift_foriegn_relations_biden,lift_economy_foreign,lift_foreign_immigration,1,lift_foreign_impeach],[lift_impeach_trump,lift_impeach_biden,lift_economy_impeach,lift_impeach_immigration,lift_foreign_impeach,1]]\n",
    "lift = pd.DataFrame(data, columns = ['Trump', 'Biden', 'Economy', 'Immigration', 'Foreign Relations', 'Impeach'])\n",
    "lift.rename(index = {0: \"Trump\", 1:\"Biden\", 2:\"Economy\", 3:\"Immigration\", 4:\"Foreign Relations\", 5:\"Impeach\"},  inplace = True) "
   ]
  },
  {
   "cell_type": "code",
   "execution_count": 132,
   "metadata": {},
   "outputs": [
    {
     "data": {
      "text/html": [
       "<div>\n",
       "<style scoped>\n",
       "    .dataframe tbody tr th:only-of-type {\n",
       "        vertical-align: middle;\n",
       "    }\n",
       "\n",
       "    .dataframe tbody tr th {\n",
       "        vertical-align: top;\n",
       "    }\n",
       "\n",
       "    .dataframe thead th {\n",
       "        text-align: right;\n",
       "    }\n",
       "</style>\n",
       "<table border=\"1\" class=\"dataframe\">\n",
       "  <thead>\n",
       "    <tr style=\"text-align: right;\">\n",
       "      <th></th>\n",
       "      <th>Trump</th>\n",
       "      <th>Biden</th>\n",
       "      <th>Economy</th>\n",
       "      <th>Immigration</th>\n",
       "      <th>Foreign Relations</th>\n",
       "      <th>Impeach</th>\n",
       "    </tr>\n",
       "  </thead>\n",
       "  <tbody>\n",
       "    <tr>\n",
       "      <td>Trump</td>\n",
       "      <td>1.000</td>\n",
       "      <td>1.104</td>\n",
       "      <td>0.678</td>\n",
       "      <td>1.157</td>\n",
       "      <td>1.318</td>\n",
       "      <td>1.713</td>\n",
       "    </tr>\n",
       "    <tr>\n",
       "      <td>Biden</td>\n",
       "      <td>1.104</td>\n",
       "      <td>1.000</td>\n",
       "      <td>1.794</td>\n",
       "      <td>0.622</td>\n",
       "      <td>2.490</td>\n",
       "      <td>0.398</td>\n",
       "    </tr>\n",
       "    <tr>\n",
       "      <td>Economy</td>\n",
       "      <td>0.678</td>\n",
       "      <td>1.794</td>\n",
       "      <td>1.000</td>\n",
       "      <td>1.351</td>\n",
       "      <td>2.102</td>\n",
       "      <td>0.865</td>\n",
       "    </tr>\n",
       "    <tr>\n",
       "      <td>Immigration</td>\n",
       "      <td>1.157</td>\n",
       "      <td>0.622</td>\n",
       "      <td>1.351</td>\n",
       "      <td>1.000</td>\n",
       "      <td>0.000</td>\n",
       "      <td>0.000</td>\n",
       "    </tr>\n",
       "    <tr>\n",
       "      <td>Foreign Relations</td>\n",
       "      <td>1.318</td>\n",
       "      <td>2.490</td>\n",
       "      <td>2.102</td>\n",
       "      <td>0.000</td>\n",
       "      <td>1.000</td>\n",
       "      <td>2.667</td>\n",
       "    </tr>\n",
       "    <tr>\n",
       "      <td>Impeach</td>\n",
       "      <td>1.713</td>\n",
       "      <td>0.398</td>\n",
       "      <td>0.865</td>\n",
       "      <td>0.000</td>\n",
       "      <td>2.667</td>\n",
       "      <td>1.000</td>\n",
       "    </tr>\n",
       "  </tbody>\n",
       "</table>\n",
       "</div>"
      ],
      "text/plain": [
       "                   Trump  Biden  Economy  Immigration  Foreign Relations  \\\n",
       "Trump              1.000  1.104    0.678        1.157              1.318   \n",
       "Biden              1.104  1.000    1.794        0.622              2.490   \n",
       "Economy            0.678  1.794    1.000        1.351              2.102   \n",
       "Immigration        1.157  0.622    1.351        1.000              0.000   \n",
       "Foreign Relations  1.318  2.490    2.102        0.000              1.000   \n",
       "Impeach            1.713  0.398    0.865        0.000              2.667   \n",
       "\n",
       "                   Impeach  \n",
       "Trump                1.713  \n",
       "Biden                0.398  \n",
       "Economy              0.865  \n",
       "Immigration          0.000  \n",
       "Foreign Relations    2.667  \n",
       "Impeach              1.000  "
      ]
     },
     "execution_count": 132,
     "metadata": {},
     "output_type": "execute_result"
    }
   ],
   "source": [
    "lift1 = lift.round(3)\n",
    "lift1"
   ]
  },
  {
   "cell_type": "code",
   "execution_count": 133,
   "metadata": {},
   "outputs": [],
   "source": [
    "#forming window around tweets that mention trump and issues\n",
    "\n",
    "from nltk.tokenize.treebank import TreebankWordDetokenizer\n",
    "impeach_sentiment_trump=[]\n",
    "economy_sentiment_trump=[]\n",
    "immigration_sentiment_trump=[]\n",
    "foreign_relations_sentiment_trump=[]\n",
    "for s in impeach_trump:\n",
    "    for i in range(len(s)):\n",
    "        if s[i] =='impeach':\n",
    "            impeach_sentiment_trump.append(TreebankWordDetokenizer().detokenize(s[i-3:i+3]))\n",
    "            \n",
    "for s in economy_trump:\n",
    "    for i in range(len(s)):\n",
    "        if s[i] =='economy':\n",
    "            economy_sentiment_trump.append(TreebankWordDetokenizer().detokenize(s[i-3:i+3]))\n",
    "\n",
    "for s in immigration_trump:\n",
    "    for i in range(len(s)):\n",
    "        if s[i] =='immigration':\n",
    "            immigration_sentiment_trump.append(TreebankWordDetokenizer().detokenize(s[i-3:i+3]))\n",
    "\n",
    "for s in foreign_relations_trump:\n",
    "    for i in range(len(s)):\n",
    "        if s[i] =='foreign_relations':\n",
    "            foreign_relations_sentiment_trump.append(TreebankWordDetokenizer().detokenize(s[i-3:i+3]))"
   ]
  },
  {
   "cell_type": "code",
   "execution_count": 134,
   "metadata": {},
   "outputs": [],
   "source": [
    "#forming window around tweets that mention biden and issues\n",
    "impeach_sentiment_biden=[]\n",
    "economy_sentiment_biden=[]\n",
    "immigration_sentiment_biden=[]\n",
    "foreign_relations_sentiment_biden=[]\n",
    "for s in impeach_biden:\n",
    "    for i in range(len(s)):\n",
    "        if s[i] =='impeach':\n",
    "            impeach_sentiment_biden.append(TreebankWordDetokenizer().detokenize(s[i-3:i+3]))\n",
    "            \n",
    "for s in economy_biden:\n",
    "    for i in range(len(s)):\n",
    "        if s[i] =='economy':\n",
    "            economy_sentiment_biden.append(TreebankWordDetokenizer().detokenize(s[i-3:i+3]))\n",
    "\n",
    "for s in immigration_biden:\n",
    "    for i in range(len(s)):\n",
    "        if s[i] =='immigration':\n",
    "            immigration_sentiment_biden.append(TreebankWordDetokenizer().detokenize(s[i-3:i+3]))\n",
    "\n",
    "for s in foreign_relations_biden:\n",
    "    for i in range(len(s)):\n",
    "        if s[i] =='foreign_relations':\n",
    "            foreign_relations_sentiment_biden.append(TreebankWordDetokenizer().detokenize(s[i-3:i+3]))"
   ]
  },
  {
   "cell_type": "code",
   "execution_count": 135,
   "metadata": {},
   "outputs": [],
   "source": [
    "#performing sentiment analysis \n",
    "\n",
    "from nltk.sentiment.vader import SentimentIntensityAnalyzer as SIA\n",
    "\n",
    "def sentiment_analysis(list_):\n",
    "\n",
    "    sia = SIA()\n",
    "    r = []\n",
    "\n",
    "    for i in list_:\n",
    "        score_ = sia.polarity_scores(i)\n",
    "        r.append(score_)\n",
    "    sum_=0\n",
    "    for i in range(len(r)):\n",
    "        sum_ = sum_ + r[i]['compound']\n",
    "    return sum_ "
   ]
  },
  {
   "cell_type": "code",
   "execution_count": 136,
   "metadata": {},
   "outputs": [],
   "source": [
    "#getting lift scores for all key issues for each candidate\n",
    "\n",
    "impeach_sentiment_t= sentiment_analysis(impeach_sentiment_trump)\n",
    "economy_sentiment_t= sentiment_analysis(economy_sentiment_trump)\n",
    "immigration_sentiment_t =sentiment_analysis(immigration_sentiment_trump)\n",
    "foreign_relations_sentiment_t= sentiment_analysis(foreign_relations_sentiment_trump)\n",
    "\n",
    "impeach_sentiment_b = sentiment_analysis(impeach_sentiment_biden)\n",
    "economy_sentiment_b= sentiment_analysis(economy_sentiment_biden)\n",
    "immigration_sentiment_b =sentiment_analysis(immigration_sentiment_biden)\n",
    "foreign_relations_sentiment_b= sentiment_analysis(foreign_relations_sentiment_biden)\n"
   ]
  },
  {
   "cell_type": "code",
   "execution_count": 137,
   "metadata": {},
   "outputs": [],
   "source": [
    "data = [[economy_sentiment_t, immigration_sentiment_t, foreign_relations_sentiment_t, impeach_sentiment_t], [economy_sentiment_b, immigration_sentiment_b, foreign_relations_sentiment_b,impeach_sentiment_b]]\n",
    "sentiment = pd.DataFrame(data, columns = ['Economy', 'Immigration', 'Foreign Relations', 'Impeach'])\n",
    "sentiment.rename(index = {0: \"Trump\", 1:\"Biden\"},  inplace = True) "
   ]
  },
  {
   "cell_type": "code",
   "execution_count": 138,
   "metadata": {
    "scrolled": true
   },
   "outputs": [
    {
     "data": {
      "text/html": [
       "<div>\n",
       "<style scoped>\n",
       "    .dataframe tbody tr th:only-of-type {\n",
       "        vertical-align: middle;\n",
       "    }\n",
       "\n",
       "    .dataframe tbody tr th {\n",
       "        vertical-align: top;\n",
       "    }\n",
       "\n",
       "    .dataframe thead th {\n",
       "        text-align: right;\n",
       "    }\n",
       "</style>\n",
       "<table border=\"1\" class=\"dataframe\">\n",
       "  <thead>\n",
       "    <tr style=\"text-align: right;\">\n",
       "      <th></th>\n",
       "      <th>Economy</th>\n",
       "      <th>Immigration</th>\n",
       "      <th>Foreign Relations</th>\n",
       "      <th>Impeach</th>\n",
       "    </tr>\n",
       "  </thead>\n",
       "  <tbody>\n",
       "    <tr>\n",
       "      <td>Trump</td>\n",
       "      <td>-1.1159</td>\n",
       "      <td>0.4588</td>\n",
       "      <td>0.0986</td>\n",
       "      <td>1.1539</td>\n",
       "    </tr>\n",
       "    <tr>\n",
       "      <td>Biden</td>\n",
       "      <td>-0.6525</td>\n",
       "      <td>0.7845</td>\n",
       "      <td>-1.0684</td>\n",
       "      <td>0.0000</td>\n",
       "    </tr>\n",
       "  </tbody>\n",
       "</table>\n",
       "</div>"
      ],
      "text/plain": [
       "       Economy  Immigration  Foreign Relations  Impeach\n",
       "Trump  -1.1159       0.4588             0.0986   1.1539\n",
       "Biden  -0.6525       0.7845            -1.0684   0.0000"
      ]
     },
     "execution_count": 138,
     "metadata": {},
     "output_type": "execute_result"
    }
   ],
   "source": [
    "sentiment"
   ]
  },
  {
   "cell_type": "code",
   "execution_count": 139,
   "metadata": {},
   "outputs": [],
   "source": [
    "import numpy as np\n",
    "#Scaling the values to bring to a normalized scale\n",
    "lift1.replace(0,0.01,inplace=True)\n",
    "lift1 = np.log(lift1)"
   ]
  },
  {
   "cell_type": "code",
   "execution_count": 140,
   "metadata": {},
   "outputs": [],
   "source": [
    "#Scaling the two values for better repersentation on the plot\n",
    "\n",
    "lift1['Foreign Relations']['Trump'] = 0.01\n",
    "lift1['Foreign Relations']['Biden'] = 0.25\n",
    "lift1['Trump']['Foreign Relations'] = 0.01\n",
    "lift1['Biden']['Foreign Relations'] = 0.25\n",
    "lift1 = lift1.round(3)"
   ]
  },
  {
   "cell_type": "code",
   "execution_count": 141,
   "metadata": {},
   "outputs": [
    {
     "data": {
      "image/png": "[encoded data removed]",
      "text/plain": [
       "<Figure size 432x288 with 1 Axes>"
      ]
     },
     "metadata": {
      "needs_background": "light"
     },
     "output_type": "display_data"
    }
   ],
   "source": [
    "import matplotlib.pyplot as plt\n",
    "\n",
    "# Calculating the similarity matrix which is the input for plotting MDS plot\n",
    "similarity_matrix = lift1\n",
    "np.fill_diagonal(similarity_matrix.values, 0)\n",
    "\n",
    "\n",
    "# Plotting MDS plot\n",
    "from sklearn import manifold\n",
    "seed = np.random.RandomState(seed=3)\n",
    "mds = manifold.MDS(n_components=2, max_iter=3000, eps=1e-9, \n",
    "      random_state=seed, dissimilarity=\"precomputed\", n_jobs=1)\n",
    "results = mds.fit(similarity_matrix)\n",
    "coords = results.embedding_\n",
    "\n",
    "plt.subplots_adjust(bottom = 0.1)\n",
    "plt.scatter(\n",
    "    coords[:, 0], coords[:, 1], marker = 'o'\n",
    "    )\n",
    "for label, x, y in zip(lift1, coords[:, 0], coords[:, 1]):\n",
    "    \n",
    "    plt.annotate(\n",
    "        label,\n",
    "        xy = (x, y), xytext = (-30, 30),\n",
    "        textcoords = 'offset points', ha = 'right', va = 'bottom',\n",
    "        bbox = dict(boxstyle = 'round,pad=0.65', fc = 'purple', alpha = 0.5),\n",
    "        arrowprops = dict(arrowstyle = '->', connectionstyle = 'arc3,rad=0.25'))\n",
    "\n",
    "plt.title('Similarity Plot')\n",
    "plt.show()"
   ]
  },
  {
   "cell_type": "markdown",
   "metadata": {
    "colab_type": "text",
    "id": "PURGH45yEjhX"
   },
   "source": [
    "### Part E"
   ]
  },
  {
   "cell_type": "code",
   "execution_count": 142,
   "metadata": {
    "colab": {},
    "colab_type": "code",
    "id": "4Zp5M5vREjhY"
   },
   "outputs": [],
   "source": [
    "## get top ten cities of each state\n",
    "Michigan = ['Detroit','Grand Rapids','Warren', 'Sterling Heights','Ann Arbor','Lansing','Flint','Dearborn','Livonia','Troy']\n",
    "Pennsylvania = ['Philadelphia','Pittsburgh','Allentown','Erie','Reading','Upper Darby','Scranton','Bethlehem','Lancaster','Millcreek']\n",
    "Wisconsin = ['Milwaukee','Madison','Green Bay','Kenosha','Racine','Appleton','Waukesha','Eau Claire','Oshkosh','Janesville']"
   ]
  },
  {
   "cell_type": "code",
   "execution_count": 143,
   "metadata": {
    "colab": {},
    "colab_type": "code",
    "id": "73teyB8REjhd"
   },
   "outputs": [],
   "source": [
    "## make the city name all lower case\n",
    "mi = []\n",
    "for x in Michigan:\n",
    "    mi.append(x.lower())\n",
    "    \n",
    "pen = []\n",
    "for x in Pennsylvania:\n",
    "    pen.append(x.lower())\n",
    "    \n",
    "wi = []\n",
    "for x in Wisconsin:\n",
    "    wi.append(x.lower())"
   ]
  },
  {
   "cell_type": "code",
   "execution_count": 144,
   "metadata": {
    "colab": {},
    "colab_type": "code",
    "id": "1-Z5MQo7Ejhg",
    "outputId": "9fb94df5-5a8d-494d-8304-935a1e577560"
   },
   "outputs": [
    {
     "data": {
      "text/plain": [
       "['Michigan, USA',\n",
       " 'Pennsylvania',\n",
       " 'Green Bay',\n",
       " 'Pennsylvania, USA',\n",
       " 'Verona WI',\n",
       " 'Altoona PA',\n",
       " 'Wisconsin, USA',\n",
       " 'Lehigh Valley PA',\n",
       " 'DELCO Phila, Pa',\n",
       " 'Philadelphia, PA',\n",
       " 'Eastern PA',\n",
       " 'Warren, PA',\n",
       " 'Butler, PA',\n",
       " 'Philadelphia',\n",
       " 'Somewhere in Pennsylvania!',\n",
       " 'Little Chute, WI',\n",
       " 'Easton, PA',\n",
       " 'Holt, MI',\n",
       " 'Grand Blanc, MI',\n",
       " 'Pittsburgh, PA',\n",
       " 'Tempe, AZ & Door County, WI',\n",
       " 'Waterford, PA',\n",
       " 'Lebanon, PA',\n",
       " 'Monaca, PA',\n",
       " 'Wisconsin, USA ',\n",
       " 'Loganville, PA',\n",
       " 'Michigan U.S.A.',\n",
       " 'Near Pittsburgh PA',\n",
       " 'Western Pa',\n",
       " 'Detroit, MI',\n",
       " 'Huntingdon Valley, PA',\n",
       " 'Oakland County, Mi',\n",
       " 'Cranberry Township, PA',\n",
       " 'Hobart, WI',\n",
       " 'Lancaster, PA',\n",
       " 'Clinton, MI',\n",
       " 'Southfield, MI',\n",
       " 'Michigan',\n",
       " 'Lock Haven, PA',\n",
       " 'Ligonier, PA',\n",
       " 'Davidsville, PA',\n",
       " 'New York / Pennsylvania',\n",
       " 'Mt. Pleasant Michigan',\n",
       " 'Milwaukee',\n",
       " 'Superior, WI',\n",
       " 'Port Huron, MI',\n",
       " 'PA']"
      ]
     },
     "execution_count": 144,
     "metadata": {},
     "output_type": "execute_result"
    }
   ],
   "source": [
    "threestates = []\n",
    "for x in tweets['User Location'].unique():\n",
    "    if 'michigan' in str(x).lower() or 'pennsylvania'in str(x).lower() or 'wisconsin' in str(x).lower() or str(x).lower().endswith(', mi') or str(x).lower().endswith('pa') or str(x).lower().endswith('wi') or str(x).lower() in mi or str(x).lower() in pen or str(x).lower() in wi:\n",
    "        threestates.append(x)\n",
    "\n",
    "threestates"
   ]
  },
  {
   "cell_type": "code",
   "execution_count": 145,
   "metadata": {
    "colab": {},
    "colab_type": "code",
    "id": "LTMlUK-3Ejhk"
   },
   "outputs": [],
   "source": [
    "for index, row in tweets.iterrows():\n",
    "    if row['User Location'] in threestates:\n",
    "        tweets.loc[index,'User Location'] = 'battleground'"
   ]
  },
  {
   "cell_type": "code",
   "execution_count": 146,
   "metadata": {
    "colab": {},
    "colab_type": "code",
    "id": "UkC81jEEEjho",
    "outputId": "8655dddf-8666-4134-e993-e953a32026ac"
   },
   "outputs": [
    {
     "data": {
      "text/html": [
       "<div>\n",
       "<style scoped>\n",
       "    .dataframe tbody tr th:only-of-type {\n",
       "        vertical-align: middle;\n",
       "    }\n",
       "\n",
       "    .dataframe tbody tr th {\n",
       "        vertical-align: top;\n",
       "    }\n",
       "\n",
       "    .dataframe thead th {\n",
       "        text-align: right;\n",
       "    }\n",
       "</style>\n",
       "<table border=\"1\" class=\"dataframe\">\n",
       "  <thead>\n",
       "    <tr style=\"text-align: right;\">\n",
       "      <th></th>\n",
       "      <th>Unnamed: 0</th>\n",
       "      <th>Date</th>\n",
       "      <th>tweets</th>\n",
       "      <th>User Location</th>\n",
       "      <th>hashtag</th>\n",
       "      <th>clean_tweets</th>\n",
       "      <th>word_freq_list</th>\n",
       "      <th>comments_attributes_replace</th>\n",
       "    </tr>\n",
       "  </thead>\n",
       "  <tbody>\n",
       "    <tr>\n",
       "      <td>13</td>\n",
       "      <td>13</td>\n",
       "      <td>10/14/2019 0:35</td>\n",
       "      <td>@NBCNews Unfounded?  You people are nuts!  Oh ...</td>\n",
       "      <td>battleground</td>\n",
       "      <td>#MAGA2020</td>\n",
       "      <td>nbcnews unfounded  you people are nuts  oh wai...</td>\n",
       "      <td>[nbcnews, people, nuts, never, wait, maga2020,...</td>\n",
       "      <td>nbcnews people nuts never wait maga2020 unfoun...</td>\n",
       "    </tr>\n",
       "    <tr>\n",
       "      <td>32</td>\n",
       "      <td>32</td>\n",
       "      <td>10/14/2019 0:24</td>\n",
       "      <td>@BillKristol Drunk again? #MAGA2020</td>\n",
       "      <td>battleground</td>\n",
       "      <td>#MAGA2020</td>\n",
       "      <td>billkristol drunk again maga2020</td>\n",
       "      <td>[drunk, billkristol, maga2020]</td>\n",
       "      <td>drunk billkristol maga2020</td>\n",
       "    </tr>\n",
       "    <tr>\n",
       "      <td>54</td>\n",
       "      <td>54</td>\n",
       "      <td>10/14/2019 0:04</td>\n",
       "      <td>@DavidJHarrisJr @realDonaldTrump That would of...</td>\n",
       "      <td>battleground</td>\n",
       "      <td>#MAGA2020</td>\n",
       "      <td>davidjharrisjr realdonaldtrump that would of m...</td>\n",
       "      <td>[better, realdonaldtrump, would, flights, seei...</td>\n",
       "      <td>better realtrump would flights seeing week dav...</td>\n",
       "    </tr>\n",
       "    <tr>\n",
       "      <td>155</td>\n",
       "      <td>155</td>\n",
       "      <td>10/13/2019 22:45</td>\n",
       "      <td>No matter how hard they try to hinder our abil...</td>\n",
       "      <td>battleground</td>\n",
       "      <td>#MAGA2020</td>\n",
       "      <td>no matter how hard they try to hinder our abil...</td>\n",
       "      <td>[stay, trump, hard, hinder, httpstcoyzum2k89u3...</td>\n",
       "      <td>stay trump hard hinder httpstcoyzum2k89u3 matt...</td>\n",
       "    </tr>\n",
       "    <tr>\n",
       "      <td>164</td>\n",
       "      <td>164</td>\n",
       "      <td>10/13/2019 22:38</td>\n",
       "      <td>@thehill @realDonaldTrump You don’t speak for ...</td>\n",
       "      <td>battleground</td>\n",
       "      <td>#MAGA2020</td>\n",
       "      <td>thehill realdonaldtrump you don’t speak for th...</td>\n",
       "      <td>[american, maga2020, magats, public, trumpers,...</td>\n",
       "      <td>american maga2020 magats public trumpers thehi...</td>\n",
       "    </tr>\n",
       "    <tr>\n",
       "      <td>...</td>\n",
       "      <td>...</td>\n",
       "      <td>...</td>\n",
       "      <td>...</td>\n",
       "      <td>...</td>\n",
       "      <td>...</td>\n",
       "      <td>...</td>\n",
       "      <td>...</td>\n",
       "      <td>...</td>\n",
       "    </tr>\n",
       "    <tr>\n",
       "      <td>5888</td>\n",
       "      <td>5888</td>\n",
       "      <td>10/11/2019 0:47</td>\n",
       "      <td>I agree, @charliekirk11 !#MAGA2020 https://t.c...</td>\n",
       "      <td>battleground</td>\n",
       "      <td>#MAGA2020</td>\n",
       "      <td>i agree charliekirk11 maga2020 httpstcovo4vppymfe</td>\n",
       "      <td>[charliekirk11, agree, httpstcovo4vppymfe, mag...</td>\n",
       "      <td>charliekirk11 agree httpstcovo4vppymfe maga2020</td>\n",
       "    </tr>\n",
       "    <tr>\n",
       "      <td>5900</td>\n",
       "      <td>5900</td>\n",
       "      <td>10/11/2019 0:46</td>\n",
       "      <td>Minneapolis police officer running against Ilh...</td>\n",
       "      <td>battleground</td>\n",
       "      <td>#MAGA2020</td>\n",
       "      <td>minneapolis police officer running against ilh...</td>\n",
       "      <td>[says, absentee, happ…, calls, police, ilhan, ...</td>\n",
       "      <td>says absentee happ… calls police ilhan httpstc...</td>\n",
       "    </tr>\n",
       "    <tr>\n",
       "      <td>5905</td>\n",
       "      <td>5905</td>\n",
       "      <td>10/11/2019 0:44</td>\n",
       "      <td>David Bossie: Impeachment inquiry? No, America...</td>\n",
       "      <td>battleground</td>\n",
       "      <td>#MAGA2020</td>\n",
       "      <td>david bossie impeachment inquiry no americans ...</td>\n",
       "      <td>[conclusion, inquiry, david, bossie, impeachme...</td>\n",
       "      <td>conclusion inquiry david bossie impeach witnes...</td>\n",
       "    </tr>\n",
       "    <tr>\n",
       "      <td>5908</td>\n",
       "      <td>5908</td>\n",
       "      <td>10/11/2019 0:44</td>\n",
       "      <td>@SpeakerPelosi @RepAdamSchiff Fact:  only way ...</td>\n",
       "      <td>battleground</td>\n",
       "      <td>#MAGA2020</td>\n",
       "      <td>speakerpelosi repadamschiff fact  only way tru...</td>\n",
       "      <td>[2020, realdonaldtrump, impeach, trump, repada...</td>\n",
       "      <td>2020 realtrump impeach trump repadamschiff spe...</td>\n",
       "    </tr>\n",
       "    <tr>\n",
       "      <td>5933</td>\n",
       "      <td>5933</td>\n",
       "      <td>10/11/2019 0:39</td>\n",
       "      <td>Time to support the beautiful women of Team #M...</td>\n",
       "      <td>battleground</td>\n",
       "      <td>#MAGA2020</td>\n",
       "      <td>time to support the beautiful women of team ma...</td>\n",
       "      <td>[🇺🇸🇺🇸🇺🇸, httpstco4ky78uajfs, trump2020, women,...</td>\n",
       "      <td>🇺🇸🇺🇸🇺🇸 httpstco4ky78uajfs trump women like bea...</td>\n",
       "    </tr>\n",
       "  </tbody>\n",
       "</table>\n",
       "<p>144 rows × 8 columns</p>\n",
       "</div>"
      ],
      "text/plain": [
       "      Unnamed: 0              Date  \\\n",
       "13            13   10/14/2019 0:35   \n",
       "32            32   10/14/2019 0:24   \n",
       "54            54   10/14/2019 0:04   \n",
       "155          155  10/13/2019 22:45   \n",
       "164          164  10/13/2019 22:38   \n",
       "...          ...               ...   \n",
       "5888        5888   10/11/2019 0:47   \n",
       "5900        5900   10/11/2019 0:46   \n",
       "5905        5905   10/11/2019 0:44   \n",
       "5908        5908   10/11/2019 0:44   \n",
       "5933        5933   10/11/2019 0:39   \n",
       "\n",
       "                                                 tweets User Location  \\\n",
       "13    @NBCNews Unfounded?  You people are nuts!  Oh ...  battleground   \n",
       "32                  @BillKristol Drunk again? #MAGA2020  battleground   \n",
       "54    @DavidJHarrisJr @realDonaldTrump That would of...  battleground   \n",
       "155   No matter how hard they try to hinder our abil...  battleground   \n",
       "164   @thehill @realDonaldTrump You don’t speak for ...  battleground   \n",
       "...                                                 ...           ...   \n",
       "5888  I agree, @charliekirk11 !#MAGA2020 https://t.c...  battleground   \n",
       "5900  Minneapolis police officer running against Ilh...  battleground   \n",
       "5905  David Bossie: Impeachment inquiry? No, America...  battleground   \n",
       "5908  @SpeakerPelosi @RepAdamSchiff Fact:  only way ...  battleground   \n",
       "5933  Time to support the beautiful women of Team #M...  battleground   \n",
       "\n",
       "        hashtag                                       clean_tweets  \\\n",
       "13    #MAGA2020  nbcnews unfounded  you people are nuts  oh wai...   \n",
       "32    #MAGA2020                   billkristol drunk again maga2020   \n",
       "54    #MAGA2020  davidjharrisjr realdonaldtrump that would of m...   \n",
       "155   #MAGA2020  no matter how hard they try to hinder our abil...   \n",
       "164   #MAGA2020  thehill realdonaldtrump you don’t speak for th...   \n",
       "...         ...                                                ...   \n",
       "5888  #MAGA2020  i agree charliekirk11 maga2020 httpstcovo4vppymfe   \n",
       "5900  #MAGA2020  minneapolis police officer running against ilh...   \n",
       "5905  #MAGA2020  david bossie impeachment inquiry no americans ...   \n",
       "5908  #MAGA2020  speakerpelosi repadamschiff fact  only way tru...   \n",
       "5933  #MAGA2020  time to support the beautiful women of team ma...   \n",
       "\n",
       "                                         word_freq_list  \\\n",
       "13    [nbcnews, people, nuts, never, wait, maga2020,...   \n",
       "32                       [drunk, billkristol, maga2020]   \n",
       "54    [better, realdonaldtrump, would, flights, seei...   \n",
       "155   [stay, trump, hard, hinder, httpstcoyzum2k89u3...   \n",
       "164   [american, maga2020, magats, public, trumpers,...   \n",
       "...                                                 ...   \n",
       "5888  [charliekirk11, agree, httpstcovo4vppymfe, mag...   \n",
       "5900  [says, absentee, happ…, calls, police, ilhan, ...   \n",
       "5905  [conclusion, inquiry, david, bossie, impeachme...   \n",
       "5908  [2020, realdonaldtrump, impeach, trump, repada...   \n",
       "5933  [🇺🇸🇺🇸🇺🇸, httpstco4ky78uajfs, trump2020, women,...   \n",
       "\n",
       "                            comments_attributes_replace  \n",
       "13    nbcnews people nuts never wait maga2020 unfoun...  \n",
       "32                           drunk billkristol maga2020  \n",
       "54    better realtrump would flights seeing week dav...  \n",
       "155   stay trump hard hinder httpstcoyzum2k89u3 matt...  \n",
       "164   american maga2020 magats public trumpers thehi...  \n",
       "...                                                 ...  \n",
       "5888    charliekirk11 agree httpstcovo4vppymfe maga2020  \n",
       "5900  says absentee happ… calls police ilhan httpstc...  \n",
       "5905  conclusion inquiry david bossie impeach witnes...  \n",
       "5908  2020 realtrump impeach trump repadamschiff spe...  \n",
       "5933  🇺🇸🇺🇸🇺🇸 httpstco4ky78uajfs trump women like bea...  \n",
       "\n",
       "[144 rows x 8 columns]"
      ]
     },
     "execution_count": 146,
     "metadata": {},
     "output_type": "execute_result"
    }
   ],
   "source": [
    "data1 = tweets.copy()\n",
    "data1[data1['User Location'] == 'battleground']"
   ]
  },
  {
   "cell_type": "code",
   "execution_count": 147,
   "metadata": {
    "colab": {},
    "colab_type": "code",
    "id": "MijN_GVnEjhs",
    "outputId": "252e9390-5f49-464e-fed0-f46a3fa475f0"
   },
   "outputs": [
    {
     "data": {
      "text/html": [
       "<div>\n",
       "<style scoped>\n",
       "    .dataframe tbody tr th:only-of-type {\n",
       "        vertical-align: middle;\n",
       "    }\n",
       "\n",
       "    .dataframe tbody tr th {\n",
       "        vertical-align: top;\n",
       "    }\n",
       "\n",
       "    .dataframe thead th {\n",
       "        text-align: right;\n",
       "    }\n",
       "</style>\n",
       "<table border=\"1\" class=\"dataframe\">\n",
       "  <thead>\n",
       "    <tr style=\"text-align: right;\">\n",
       "      <th></th>\n",
       "      <th>Unnamed: 0</th>\n",
       "      <th>Date</th>\n",
       "      <th>tweets</th>\n",
       "      <th>User Location</th>\n",
       "      <th>hashtag</th>\n",
       "      <th>clean_tweets</th>\n",
       "      <th>word_freq_list</th>\n",
       "      <th>comments_attributes_replace</th>\n",
       "      <th>tweets_battle</th>\n",
       "    </tr>\n",
       "  </thead>\n",
       "  <tbody>\n",
       "    <tr>\n",
       "      <td>0</td>\n",
       "      <td>0</td>\n",
       "      <td>10/14/2019 0:47</td>\n",
       "      <td>Why do they keep electing elites that have mil...</td>\n",
       "      <td>United States</td>\n",
       "      <td>#MAGA2020</td>\n",
       "      <td>why do they keep electing elites that have mil...</td>\n",
       "      <td>[themmaga, httpstcoxksbijvqcn, trump2020, doll...</td>\n",
       "      <td>themmaga httpstcoxksbijvqcn trump dollars keep...</td>\n",
       "      <td>United Stateswhy do they keep electing elites ...</td>\n",
       "    </tr>\n",
       "    <tr>\n",
       "      <td>1</td>\n",
       "      <td>1</td>\n",
       "      <td>10/14/2019 0:46</td>\n",
       "      <td>No Shame! \\r\\nThanks @carlosrossimc for the ve...</td>\n",
       "      <td>United States</td>\n",
       "      <td>#MAGA2020</td>\n",
       "      <td>no shame \\r\\nthanks carlosrossimc for the vers...</td>\n",
       "      <td>[thanks, carlosrossimc, kag, magachallenge, ht...</td>\n",
       "      <td>thanks carlosrossimc kag magachallenge httpstc...</td>\n",
       "      <td>United Statesno shame \\r\\nthanks carlosrossimc...</td>\n",
       "    </tr>\n",
       "    <tr>\n",
       "      <td>3</td>\n",
       "      <td>3</td>\n",
       "      <td>10/14/2019 0:45</td>\n",
       "      <td>@realDonaldTrump @FoxNews needs to dump Wallac...</td>\n",
       "      <td>Boston, MA</td>\n",
       "      <td>#MAGA2020</td>\n",
       "      <td>realdonaldtrump foxnews needs to dump wallace ...</td>\n",
       "      <td>[httpstcoaukdrtpmkc, dump, switch, shep👉🏻🚪, i…...</td>\n",
       "      <td>httpstcoaukdrtpmkc dump switch shep👉🏻🚪 i… like...</td>\n",
       "      <td>Boston, MArealdonaldtrump foxnews needs to dum...</td>\n",
       "    </tr>\n",
       "    <tr>\n",
       "      <td>4</td>\n",
       "      <td>4</td>\n",
       "      <td>10/14/2019 0:45</td>\n",
       "      <td>President Trump is 100% Correct on Syria Withd...</td>\n",
       "      <td>Florida of course!</td>\n",
       "      <td>#MAGA2020</td>\n",
       "      <td>president trump is 100 correct on syria withdr...</td>\n",
       "      <td>[⁦potus⁩, trump, last, president, refuge, why…...</td>\n",
       "      <td>⁦potus⁩ trump last president refuge why… https...</td>\n",
       "      <td>Florida of course!president trump is 100 corre...</td>\n",
       "    </tr>\n",
       "    <tr>\n",
       "      <td>5</td>\n",
       "      <td>5</td>\n",
       "      <td>10/14/2019 0:44</td>\n",
       "      <td>@JoeBiden Poor Joe...#MAGA #MAGA2020</td>\n",
       "      <td>Corpus Christi</td>\n",
       "      <td>#MAGA2020</td>\n",
       "      <td>joebiden poor joemaga maga2020</td>\n",
       "      <td>[poor, maga2020, joebiden, joemaga]</td>\n",
       "      <td>poor maga2020 biden bidenmaga</td>\n",
       "      <td>Corpus Christijoebiden poor joemaga maga2020</td>\n",
       "    </tr>\n",
       "    <tr>\n",
       "      <td>...</td>\n",
       "      <td>...</td>\n",
       "      <td>...</td>\n",
       "      <td>...</td>\n",
       "      <td>...</td>\n",
       "      <td>...</td>\n",
       "      <td>...</td>\n",
       "      <td>...</td>\n",
       "      <td>...</td>\n",
       "      <td>...</td>\n",
       "    </tr>\n",
       "    <tr>\n",
       "      <td>5993</td>\n",
       "      <td>5993</td>\n",
       "      <td>10/11/2019 0:19</td>\n",
       "      <td>Thank you to all my friends for sharing pictur...</td>\n",
       "      <td>Minnesota, USA</td>\n",
       "      <td>#MAGA2020</td>\n",
       "      <td>thank you to all my friends for sharing pictur...</td>\n",
       "      <td>[rally, trump, president, friends, sharing, mi...</td>\n",
       "      <td>rally trump president friends sharing minnesot...</td>\n",
       "      <td>Minnesota, USAthank you to all my friends for ...</td>\n",
       "    </tr>\n",
       "    <tr>\n",
       "      <td>5994</td>\n",
       "      <td>5994</td>\n",
       "      <td>10/11/2019 0:19</td>\n",
       "      <td>Thank you to all my friends for sharing pictur...</td>\n",
       "      <td>Minnesota, USA</td>\n",
       "      <td>#MAGA2020</td>\n",
       "      <td>thank you to all my friends for sharing pictur...</td>\n",
       "      <td>[rally, trump, president, friends, sharing, mi...</td>\n",
       "      <td>rally trump president friends sharing minnesot...</td>\n",
       "      <td>Minnesota, USAthank you to all my friends for ...</td>\n",
       "    </tr>\n",
       "    <tr>\n",
       "      <td>5995</td>\n",
       "      <td>5995</td>\n",
       "      <td>10/11/2019 0:18</td>\n",
       "      <td>Trump’s children take in millions overseas as ...</td>\n",
       "      <td>Portland, OR</td>\n",
       "      <td>#MAGA2020</td>\n",
       "      <td>trump’s children take in millions overseas as ...</td>\n",
       "      <td>[president, biden, slams, kag2020, httpstcof4j...</td>\n",
       "      <td>president biden slams kag2020 httpstcof4j5mupj...</td>\n",
       "      <td>Portland, ORtrump’s children take in millions ...</td>\n",
       "    </tr>\n",
       "    <tr>\n",
       "      <td>5997</td>\n",
       "      <td>5997</td>\n",
       "      <td>10/11/2019 0:17</td>\n",
       "      <td>🚨BREAKING🚨\\r\\n#Whistleblower Worked With #JoeB...</td>\n",
       "      <td>USA</td>\n",
       "      <td>#MAGA2020</td>\n",
       "      <td>🚨breaking🚨\\r\\nwhistleblower worked with joebid...</td>\n",
       "      <td>[worked, joebidencorruption, httpstcox0cjtigzh...</td>\n",
       "      <td>worked bidencorruption httpstcox0cjtigzhe whis...</td>\n",
       "      <td>USA🚨breaking🚨\\r\\nwhistleblower worked with joe...</td>\n",
       "    </tr>\n",
       "    <tr>\n",
       "      <td>5998</td>\n",
       "      <td>5998</td>\n",
       "      <td>10/11/2019 0:17</td>\n",
       "      <td>Gosh, imagine that- a spineless business failu...</td>\n",
       "      <td>Freehold, NJ</td>\n",
       "      <td>#MAGA2020</td>\n",
       "      <td>gosh imagine that a spineless business failure...</td>\n",
       "      <td>[notorious, spineless, pay, imagine, creditors...</td>\n",
       "      <td>notorious spineless pay imagine creditors http...</td>\n",
       "      <td>Freehold, NJgosh imagine that a spineless busi...</td>\n",
       "    </tr>\n",
       "  </tbody>\n",
       "</table>\n",
       "<p>3975 rows × 9 columns</p>\n",
       "</div>"
      ],
      "text/plain": [
       "      Unnamed: 0             Date  \\\n",
       "0              0  10/14/2019 0:47   \n",
       "1              1  10/14/2019 0:46   \n",
       "3              3  10/14/2019 0:45   \n",
       "4              4  10/14/2019 0:45   \n",
       "5              5  10/14/2019 0:44   \n",
       "...          ...              ...   \n",
       "5993        5993  10/11/2019 0:19   \n",
       "5994        5994  10/11/2019 0:19   \n",
       "5995        5995  10/11/2019 0:18   \n",
       "5997        5997  10/11/2019 0:17   \n",
       "5998        5998  10/11/2019 0:17   \n",
       "\n",
       "                                                 tweets       User Location  \\\n",
       "0     Why do they keep electing elites that have mil...       United States   \n",
       "1     No Shame! \\r\\nThanks @carlosrossimc for the ve...       United States   \n",
       "3     @realDonaldTrump @FoxNews needs to dump Wallac...          Boston, MA   \n",
       "4     President Trump is 100% Correct on Syria Withd...  Florida of course!   \n",
       "5                  @JoeBiden Poor Joe...#MAGA #MAGA2020      Corpus Christi   \n",
       "...                                                 ...                 ...   \n",
       "5993  Thank you to all my friends for sharing pictur...      Minnesota, USA   \n",
       "5994  Thank you to all my friends for sharing pictur...      Minnesota, USA   \n",
       "5995  Trump’s children take in millions overseas as ...        Portland, OR   \n",
       "5997  🚨BREAKING🚨\\r\\n#Whistleblower Worked With #JoeB...                 USA   \n",
       "5998  Gosh, imagine that- a spineless business failu...        Freehold, NJ   \n",
       "\n",
       "        hashtag                                       clean_tweets  \\\n",
       "0     #MAGA2020  why do they keep electing elites that have mil...   \n",
       "1     #MAGA2020  no shame \\r\\nthanks carlosrossimc for the vers...   \n",
       "3     #MAGA2020  realdonaldtrump foxnews needs to dump wallace ...   \n",
       "4     #MAGA2020  president trump is 100 correct on syria withdr...   \n",
       "5     #MAGA2020                     joebiden poor joemaga maga2020   \n",
       "...         ...                                                ...   \n",
       "5993  #MAGA2020  thank you to all my friends for sharing pictur...   \n",
       "5994  #MAGA2020  thank you to all my friends for sharing pictur...   \n",
       "5995  #MAGA2020  trump’s children take in millions overseas as ...   \n",
       "5997  #MAGA2020  🚨breaking🚨\\r\\nwhistleblower worked with joebid...   \n",
       "5998  #MAGA2020  gosh imagine that a spineless business failure...   \n",
       "\n",
       "                                         word_freq_list  \\\n",
       "0     [themmaga, httpstcoxksbijvqcn, trump2020, doll...   \n",
       "1     [thanks, carlosrossimc, kag, magachallenge, ht...   \n",
       "3     [httpstcoaukdrtpmkc, dump, switch, shep👉🏻🚪, i…...   \n",
       "4     [⁦potus⁩, trump, last, president, refuge, why…...   \n",
       "5                   [poor, maga2020, joebiden, joemaga]   \n",
       "...                                                 ...   \n",
       "5993  [rally, trump, president, friends, sharing, mi...   \n",
       "5994  [rally, trump, president, friends, sharing, mi...   \n",
       "5995  [president, biden, slams, kag2020, httpstcof4j...   \n",
       "5997  [worked, joebidencorruption, httpstcox0cjtigzh...   \n",
       "5998  [notorious, spineless, pay, imagine, creditors...   \n",
       "\n",
       "                            comments_attributes_replace  \\\n",
       "0     themmaga httpstcoxksbijvqcn trump dollars keep...   \n",
       "1     thanks carlosrossimc kag magachallenge httpstc...   \n",
       "3     httpstcoaukdrtpmkc dump switch shep👉🏻🚪 i… like...   \n",
       "4     ⁦potus⁩ trump last president refuge why… https...   \n",
       "5                         poor maga2020 biden bidenmaga   \n",
       "...                                                 ...   \n",
       "5993  rally trump president friends sharing minnesot...   \n",
       "5994  rally trump president friends sharing minnesot...   \n",
       "5995  president biden slams kag2020 httpstcof4j5mupj...   \n",
       "5997  worked bidencorruption httpstcox0cjtigzhe whis...   \n",
       "5998  notorious spineless pay imagine creditors http...   \n",
       "\n",
       "                                          tweets_battle  \n",
       "0     United Stateswhy do they keep electing elites ...  \n",
       "1     United Statesno shame \\r\\nthanks carlosrossimc...  \n",
       "3     Boston, MArealdonaldtrump foxnews needs to dum...  \n",
       "4     Florida of course!president trump is 100 corre...  \n",
       "5          Corpus Christijoebiden poor joemaga maga2020  \n",
       "...                                                 ...  \n",
       "5993  Minnesota, USAthank you to all my friends for ...  \n",
       "5994  Minnesota, USAthank you to all my friends for ...  \n",
       "5995  Portland, ORtrump’s children take in millions ...  \n",
       "5997  USA🚨breaking🚨\\r\\nwhistleblower worked with joe...  \n",
       "5998  Freehold, NJgosh imagine that a spineless busi...  \n",
       "\n",
       "[3975 rows x 9 columns]"
      ]
     },
     "execution_count": 147,
     "metadata": {},
     "output_type": "execute_result"
    }
   ],
   "source": [
    "data1 = data1.dropna().copy()\n",
    "data1['tweets_battle'] = data1['User Location']+ data1['clean_tweets']\n",
    "# data1.loc[data1['User Location'] == 'battleground','tweets_battle'] = data1[]+ data1['tweets']\n",
    "data1"
   ]
  },
  {
   "cell_type": "code",
   "execution_count": 148,
   "metadata": {
    "colab": {},
    "colab_type": "code",
    "id": "qrX40ApyEjiH"
   },
   "outputs": [],
   "source": [
    "people_trump = ['trump','battleground']\n",
    "trump_df = pd.DataFrame(columns = people_trump)\n",
    "\n",
    "def candidates_mentioned(item):\n",
    "    if p.lower() in item.lower():\n",
    "        return 1\n",
    "    else:\n",
    "        return 0\n",
    "      \n",
    "for p in people_trump:\n",
    "    trump_df[p] = data1['tweets_battle'].apply(candidates_mentioned)\n",
    "    \n",
    "    \n",
    "    \n",
    "people_dem = ['biden','battleground']\n",
    "dem_df = pd.DataFrame(columns = people_dem)\n",
    "\n",
    "def candidates_mentioned(item):\n",
    "    if p.lower() in item.lower():\n",
    "        return 1\n",
    "    else:\n",
    "        return 0\n",
    "      \n",
    "for p in people_dem:\n",
    "    dem_df[p] = data1['tweets_battle'].apply(candidates_mentioned)"
   ]
  },
  {
   "cell_type": "code",
   "execution_count": 149,
   "metadata": {
    "colab": {},
    "colab_type": "code",
    "id": "BcrKvZfIEjiJ",
    "outputId": "20dafe4a-ee86-4660-cf1d-8afe9670a289"
   },
   "outputs": [
    {
     "name": "stdout",
     "output_type": "stream",
     "text": [
      "Below are the lift ratios among Trump and battleground\n"
     ]
    },
    {
     "data": {
      "text/html": [
       "<div>\n",
       "<style scoped>\n",
       "    .dataframe tbody tr th:only-of-type {\n",
       "        vertical-align: middle;\n",
       "    }\n",
       "\n",
       "    .dataframe tbody tr th {\n",
       "        vertical-align: top;\n",
       "    }\n",
       "\n",
       "    .dataframe thead th {\n",
       "        text-align: right;\n",
       "    }\n",
       "</style>\n",
       "<table border=\"1\" class=\"dataframe\">\n",
       "  <thead>\n",
       "    <tr style=\"text-align: right;\">\n",
       "      <th></th>\n",
       "      <th>trump</th>\n",
       "      <th>battleground</th>\n",
       "    </tr>\n",
       "  </thead>\n",
       "  <tbody>\n",
       "    <tr>\n",
       "      <td>trump</td>\n",
       "      <td>NaN</td>\n",
       "      <td>1.07154</td>\n",
       "    </tr>\n",
       "    <tr>\n",
       "      <td>battleground</td>\n",
       "      <td>1.07154</td>\n",
       "      <td>NaN</td>\n",
       "    </tr>\n",
       "  </tbody>\n",
       "</table>\n",
       "</div>"
      ],
      "text/plain": [
       "                trump battleground\n",
       "trump             NaN      1.07154\n",
       "battleground  1.07154          NaN"
      ]
     },
     "execution_count": 149,
     "metadata": {},
     "output_type": "execute_result"
    }
   ],
   "source": [
    "liftratio1=pd.DataFrame(columns = people_trump)\n",
    "for i in range(len(people_trump)):\n",
    "    new_list = []\n",
    "    for j in range(len(people_trump)):\n",
    "        if (i!=j):\n",
    "            numerator = ((trump_df[people_trump[i]] + trump_df[people_trump[j]]) > 1).sum()\n",
    "            denominator = trump_df[people_trump[j]].sum()*trump_df[people_trump[i]].sum()\n",
    "            lift = numerator*len(trump_df)/denominator\n",
    "            liftratio1.loc[people_trump[i],people_trump[j]] = lift\n",
    "print ('Below are the lift ratios among Trump and battleground')\n",
    "liftratio1"
   ]
  },
  {
   "cell_type": "code",
   "execution_count": 150,
   "metadata": {
    "colab": {},
    "colab_type": "code",
    "id": "2P75joA6EjiL",
    "outputId": "1d246e86-984f-4848-f82e-f5d55bc04a32"
   },
   "outputs": [
    {
     "name": "stdout",
     "output_type": "stream",
     "text": [
      "Below are the lift ratios among Biden and battleground\n"
     ]
    },
    {
     "data": {
      "text/html": [
       "<div>\n",
       "<style scoped>\n",
       "    .dataframe tbody tr th:only-of-type {\n",
       "        vertical-align: middle;\n",
       "    }\n",
       "\n",
       "    .dataframe tbody tr th {\n",
       "        vertical-align: top;\n",
       "    }\n",
       "\n",
       "    .dataframe thead th {\n",
       "        text-align: right;\n",
       "    }\n",
       "</style>\n",
       "<table border=\"1\" class=\"dataframe\">\n",
       "  <thead>\n",
       "    <tr style=\"text-align: right;\">\n",
       "      <th></th>\n",
       "      <th>biden</th>\n",
       "      <th>battleground</th>\n",
       "    </tr>\n",
       "  </thead>\n",
       "  <tbody>\n",
       "    <tr>\n",
       "      <td>biden</td>\n",
       "      <td>NaN</td>\n",
       "      <td>1.886</td>\n",
       "    </tr>\n",
       "    <tr>\n",
       "      <td>battleground</td>\n",
       "      <td>1.886</td>\n",
       "      <td>NaN</td>\n",
       "    </tr>\n",
       "  </tbody>\n",
       "</table>\n",
       "</div>"
      ],
      "text/plain": [
       "              biden battleground\n",
       "biden           NaN        1.886\n",
       "battleground  1.886          NaN"
      ]
     },
     "execution_count": 150,
     "metadata": {},
     "output_type": "execute_result"
    }
   ],
   "source": [
    "liftratio2=pd.DataFrame(columns = people_dem)\n",
    "for i in range(len(people_dem)):\n",
    "    new_list = []\n",
    "    for j in range(len(people_dem)):\n",
    "        if (i!=j):\n",
    "            numerator = ((dem_df[people_dem[i]] + dem_df[people_dem[j]]) > 1).sum()\n",
    "            denominator = dem_df[people_dem[j]].sum()*dem_df[people_dem[i]].sum()\n",
    "            lift = numerator*len(dem_df)/denominator\n",
    "            liftratio2.loc[people_dem[i],people_dem[j]] = lift\n",
    "print ('Below are the lift ratios among Biden and battleground')\n",
    "liftratio2"
   ]
  },
  {
   "cell_type": "markdown",
   "metadata": {
    "colab_type": "text",
    "id": "zeeoYSpwEjiO"
   },
   "source": [
    "## Lift analysis"
   ]
  },
  {
   "cell_type": "code",
   "execution_count": 151,
   "metadata": {
    "colab": {},
    "colab_type": "code",
    "id": "xnfTml_ZEjiO",
    "outputId": "10d70e21-f8cd-4e9a-a027-85f7496090a0"
   },
   "outputs": [
    {
     "data": {
      "text/html": [
       "<div>\n",
       "<style scoped>\n",
       "    .dataframe tbody tr th:only-of-type {\n",
       "        vertical-align: middle;\n",
       "    }\n",
       "\n",
       "    .dataframe tbody tr th {\n",
       "        vertical-align: top;\n",
       "    }\n",
       "\n",
       "    .dataframe thead th {\n",
       "        text-align: right;\n",
       "    }\n",
       "</style>\n",
       "<table border=\"1\" class=\"dataframe\">\n",
       "  <thead>\n",
       "    <tr style=\"text-align: right;\">\n",
       "      <th></th>\n",
       "      <th>Trump</th>\n",
       "      <th>Biden</th>\n",
       "    </tr>\n",
       "  </thead>\n",
       "  <tbody>\n",
       "    <tr>\n",
       "      <td>Battleground</td>\n",
       "      <td>1.07154</td>\n",
       "      <td>1.886</td>\n",
       "    </tr>\n",
       "  </tbody>\n",
       "</table>\n",
       "</div>"
      ],
      "text/plain": [
       "                Trump  Biden\n",
       "Battleground  1.07154  1.886"
      ]
     },
     "execution_count": 151,
     "metadata": {},
     "output_type": "execute_result"
    }
   ],
   "source": [
    "liftdf = pd.DataFrame(index=['Battleground'],columns=['Trump','Biden'])\n",
    "liftdf.iloc[0,0]=liftratio1.iloc[0,1]\n",
    "liftdf.iloc[0,1]=liftratio2.iloc[0,1]\n",
    "liftdf"
   ]
  },
  {
   "cell_type": "code",
   "execution_count": 152,
   "metadata": {
    "colab": {},
    "colab_type": "code",
    "id": "xXmhCWS_EjiQ"
   },
   "outputs": [],
   "source": [
    "data2 = data1[data1['User Location'] == 'battleground']"
   ]
  },
  {
   "cell_type": "code",
   "execution_count": 153,
   "metadata": {
    "colab": {},
    "colab_type": "code",
    "id": "mjbme-w7EjiT"
   },
   "outputs": [],
   "source": [
    "#get the compound sentiment score of tweets mentioned Trump\n",
    "trumpsenti=[]\n",
    "analyzer = SIA()\n",
    "for index, row in data2.iterrows():\n",
    "    if 'trump' in row['clean_tweets'].lower():\n",
    "        vs = analyzer.polarity_scores(row['clean_tweets'])\n",
    "        trumpsenti.append(vs['compound'])"
   ]
  },
  {
   "cell_type": "code",
   "execution_count": 154,
   "metadata": {
    "colab": {},
    "colab_type": "code",
    "id": "87epD3HvEjiV"
   },
   "outputs": [],
   "source": [
    "#get the compound sentiment score of tweets mentioned Biden\n",
    "demsenti=[]\n",
    "analyzer = SIA()\n",
    "for index, row in data2.iterrows():\n",
    "    if 'biden' in row['clean_tweets'].lower():\n",
    "        vs = analyzer.polarity_scores(row['clean_tweets'])\n",
    "        demsenti.append((vs['compound']))"
   ]
  },
  {
   "cell_type": "code",
   "execution_count": 155,
   "metadata": {
    "colab": {},
    "colab_type": "code",
    "id": "QWDxpRw7EjiX",
    "outputId": "d4669bc7-bcad-4655-a58d-5ff9f218328f"
   },
   "outputs": [
    {
     "data": {
      "text/html": [
       "<div>\n",
       "<style scoped>\n",
       "    .dataframe tbody tr th:only-of-type {\n",
       "        vertical-align: middle;\n",
       "    }\n",
       "\n",
       "    .dataframe tbody tr th {\n",
       "        vertical-align: top;\n",
       "    }\n",
       "\n",
       "    .dataframe thead th {\n",
       "        text-align: right;\n",
       "    }\n",
       "</style>\n",
       "<table border=\"1\" class=\"dataframe\">\n",
       "  <thead>\n",
       "    <tr style=\"text-align: right;\">\n",
       "      <th></th>\n",
       "      <th>Trump</th>\n",
       "      <th>Biden</th>\n",
       "    </tr>\n",
       "  </thead>\n",
       "  <tbody>\n",
       "    <tr>\n",
       "      <td>Battleground</td>\n",
       "      <td>0.161143</td>\n",
       "      <td>0.0365636</td>\n",
       "    </tr>\n",
       "  </tbody>\n",
       "</table>\n",
       "</div>"
      ],
      "text/plain": [
       "                 Trump      Biden\n",
       "Battleground  0.161143  0.0365636"
      ]
     },
     "execution_count": 155,
     "metadata": {},
     "output_type": "execute_result"
    }
   ],
   "source": [
    "# take the average semtiment score of each tweet\n",
    "import numpy as np\n",
    "sentimentdf = pd.DataFrame(index=['Battleground'],columns=['Trump','Biden'])\n",
    "sentimentdf.iloc[0,0]=np.mean(trumpsenti)\n",
    "sentimentdf.iloc[0,1]=np.mean(demsenti)\n",
    "sentimentdf"
   ]
  },
  {
   "cell_type": "code",
   "execution_count": 156,
   "metadata": {
    "colab": {},
    "colab_type": "code",
    "id": "GGRnRKQGEjiZ",
    "outputId": "8ad60d2a-3330-4df8-bdb1-137e1b8636fb"
   },
   "outputs": [
    {
     "name": "stdout",
     "output_type": "stream",
     "text": [
      "46.26865671641791% of tweets have postive sentiments regarding to Trump in battleground.\n",
      "34.32835820895522% of tweets have neutral sentiments regarding to Trump in battleground.\n",
      "19.402985074626866% of tweets have negitive sentiments regarding to Trump in battleground.\n"
     ]
    }
   ],
   "source": [
    "# a more detailed report of people's sentiment when they talk about Trump\n",
    "trumppos = 0\n",
    "trumpneg = 0\n",
    "for x in trumpsenti:\n",
    "    if x>0:\n",
    "        trumppos+=1\n",
    "    if x<0:\n",
    "        trumpneg+=1\n",
    "trumppos = trumppos/len(trumpsenti)\n",
    "trumpneg = trumpneg/len(trumpsenti)\n",
    "\n",
    "\n",
    "print(str(trumppos*100) +\"% of tweets have postive sentiments regarding to Trump in battleground.\")\n",
    "print(str((1-trumpneg-trumppos)*100) +\"% of tweets have neutral sentiments regarding to Trump in battleground.\")\n",
    "print(str(trumpneg*100) +\"% of tweets have negitive sentiments regarding to Trump in battleground.\")"
   ]
  },
  {
   "cell_type": "code",
   "execution_count": 157,
   "metadata": {
    "colab": {},
    "colab_type": "code",
    "id": "MDw_dSzuEjic",
    "outputId": "a8e248f1-ba7d-4f9e-e0e7-f181c7f116b9"
   },
   "outputs": [
    {
     "name": "stdout",
     "output_type": "stream",
     "text": [
      "27.27272727272727% of tweets have postive sentiments regarding to Biden in battleground.\n",
      "45.45454545454546% of tweets have neutral sentiments regarding to Biden in battleground.\n",
      "27.27272727272727% of tweets have negitive sentiments regarding to Biden in battleground.\n"
     ]
    }
   ],
   "source": [
    "# a more detailed report of people's sentiment when they talk about Biden\n",
    "bidenpos = 0\n",
    "bidenneg = 0\n",
    "for x in demsenti:\n",
    "    if x>0:\n",
    "        bidenpos+=1\n",
    "    if x<0:\n",
    "        bidenneg+=1\n",
    "        \n",
    "bidenpos = bidenpos/len(demsenti)\n",
    "bidenpos = bidenneg/len(demsenti)\n",
    "\n",
    "\n",
    "print(str(bidenpos*100) +\"% of tweets have postive sentiments regarding to Biden in battleground.\")\n",
    "print(str((1-bidenpos-bidenpos)*100) +\"% of tweets have neutral sentiments regarding to Biden in battleground.\")\n",
    "print(str(bidenpos*100) +\"% of tweets have negitive sentiments regarding to Biden in battleground.\")"
   ]
  },
  {
   "cell_type": "markdown",
   "metadata": {
    "colab_type": "text",
    "id": "CBzIEQVPFNij"
   },
   "source": [
    "# Part F"
   ]
  },
  {
   "cell_type": "markdown",
   "metadata": {
    "colab_type": "text",
    "id": "iCXlJC_-FRPc"
   },
   "source": [
    "According to the lift analysis, Trump is associated more with immigration and impeach issues than Biden. While Biden is more associated with economy and foreign relations issues. According to the sentiment analysis, people have very diverse sentiments of Trump and Biden on different issues. As for economy issue, people’s overall sentiment of Trump is positive. On the other hand, Biden is not favorable because the sentiment score is negative. For immigration issue, Biden is favorable, and Trump is not liked. As for foreign relations, both candidates are not favorable. However, people still prefer Trump compared to Biden. For impeach issue, Trump is more favorable than Biden. And people’ssentiment of Biden is neutral on impeach issue.Trump should improve his reputation on immigration and foreign relation issues, because on these issues Biden is favorable. Our recommendation is that he should not post too many twittes abouthis politics. Even he wants to post something on Twitter, he should not show the aggressiveness because it will make people dislike him. Especially for immigration and foreign relation issues, on whichpeople show negative sentiments. As for Biden, he should work on improving his recognition on solvingeconomy and impeach issues, since Trump is preferred compared to him on these two issues. What’s more, he should increase the frequency of posting twittes. Because Trump posts a lot, and it will shift the focus away from him.  According to the result of lift analysis Trump is not frequently discussed in Michigan, Pennsylvania and Wisconsin. The probability of Trump been discussed is less than random selection. Compared to Trump, Biden is much more likely to be discussed by people in Michigan, Pennsylvania and Wisconsin. The probability of Biden been discussed is significantly higher than random selection. According to the result of sentiment analysis, for people in Michigan, Pennsylvania and Wisconsin, theirsentiments about Trump is more positive than their sentiments about Biden. In other words, Trump is more favorable in Michigan, Pennsylvania and Wisconsin, compared to Biden. After combining the lift analysis and the sentiment analysis, we are confidence to conclude that although Biden is mentioned more in people’s discussions, it is likely that those mentions are close to neutral sentiments. Although Trump is mentioned less frequently, people in Michigan, Pennsylvania and Wisconsin like him more than Biden. Trump should give more speeches in Michigan, Pennsylvania and Wisconsin. Because he is favorable compared to Biden. By giving more speeches, people will discuss him more, and it is beneficial. Biden should participate more on Twitter and speak for people’s benefits; therefore, he would have a chance to have higher sentiment score than Trump."
   ]
  },
  {
   "cell_type": "code",
   "execution_count": null,
   "metadata": {
    "colab": {},
    "colab_type": "code",
    "id": "b9eEvs0YFSz1"
   },
   "outputs": [],
   "source": []
  }
 ],
 "metadata": {
  "colab": {
   "collapsed_sections": [
    "PURGH45yEjhX"
   ],
   "name": "Assignment2.ipynb",
   "provenance": []
  },
  "kernelspec": {
   "display_name": "Python 3",
   "language": "python",
   "name": "python3"
  },
  "language_info": {
   "codemirror_mode": {
    "name": "ipython",
    "version": 3
   },
   "file_extension": ".py",
   "mimetype": "text/x-python",
   "name": "python",
   "nbconvert_exporter": "python",
   "pygments_lexer": "ipython3",
   "version": "3.7.4"
  }
 },
 "nbformat": 4,
 "nbformat_minor": 1
}
